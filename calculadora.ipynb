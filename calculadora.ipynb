{
 "cells": [
  {
   "cell_type": "code",
   "execution_count": 12,
   "id": "8321577e-efe2-4ea1-b345-751babaca512",
   "metadata": {},
   "outputs": [
    {
     "name": "stdin",
     "output_type": "stream",
     "text": [
      "digite um numero: 1\n",
      "digite outro numero: 2\n",
      "digite a operaçao -\n"
     ]
    },
    {
     "name": "stdout",
     "output_type": "stream",
     "text": [
      "o resultado é -1.0\n"
     ]
    }
   ],
   "source": [
    "#calculadora em python ]\n",
    "num1 = float(input('digite um numero:')) \n",
    "num2 = float(input('digite outro numero:')) \n",
    "operaçao = input('digite a operaçao')\n",
    "\n",
    "if operaçao == '+': \n",
    "    resultado = num1 + num2\n",
    "    print('o resultado é',resultado) \n",
    "\n",
    "if operaçao == '-': \n",
    "    resultado = num1 - num2\n",
    "    print('o resultado é',resultado)\n",
    "    \n",
    "\n",
    "if operaçao == '*': \n",
    "    resultado = num1 * num2\n",
    "    print('o resultado é',resultado)\n",
    "           \n",
    "\n",
    "if operaçao == '+': \n",
    "    resultado = num1 / num2\n",
    "    print('o resultado é',resultado)\n",
    "            "
   ]
  },
  {
   "cell_type": "code",
   "execution_count": null,
   "id": "6c687b63-abb2-4d75-8459-0e8b280d4053",
   "metadata": {},
   "outputs": [],
   "source": []
  }
 ],
 "metadata": {
  "kernelspec": {
   "display_name": "Python 3 (ipykernel)",
   "language": "python",
   "name": "python3"
  },
  "language_info": {
   "codemirror_mode": {
    "name": "ipython",
    "version": 3
   },
   "file_extension": ".py",
   "mimetype": "text/x-python",
   "name": "python",
   "nbconvert_exporter": "python",
   "pygments_lexer": "ipython3",
   "version": "3.12.4"
  }
 },
 "nbformat": 4,
 "nbformat_minor": 5
}
